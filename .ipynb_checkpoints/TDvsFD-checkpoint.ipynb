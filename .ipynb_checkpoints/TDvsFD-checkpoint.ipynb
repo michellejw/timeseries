{
 "cells": [
  {
   "cell_type": "markdown",
   "metadata": {},
   "source": [
    "# Time Domain vs Frequency Domain Tutorial\n",
    "\n",
    "[Link to NBviewer](https://nbviewer.jupyter.org/github/michellejw/timeseries/blob/master/TDvsFD.ipynb)\n",
    "\n",
    "The purpose of this tutorial is to provide an overview of the concept of the time domain and frequency domain representations of signals.\n",
    "\n",
    "There's a very specific type of data we're going to talk about here, and that's time series data. That means that the data are made up of a series of samples at equally spaced time intervals. Here are some examples of time series data:\n",
    "\n",
    "* sound waves\n",
    "* temperature\n",
    "* ocean tides\n",
    "* rainfall\n",
    "* also non-environmental things like daily currency exchange rates\n",
    "\n",
    "(fun/silly graphic here! Maybe a person speaking into a microphone?)"
   ]
  },
  {
   "cell_type": "code",
   "execution_count": 2,
   "metadata": {
    "collapsed": true
   },
   "outputs": [],
   "source": [
    "import numpy as np\n",
    "import matplotlib.pyplot as plt"
   ]
  },
  {
   "cell_type": "markdown",
   "metadata": {},
   "source": [
    "First we'll construct a sinusoid as an example:"
   ]
  },
  {
   "cell_type": "code",
   "execution_count": 7,
   "metadata": {
    "collapsed": true
   },
   "outputs": [],
   "source": [
    "F = 2 # frequency in Hz\n",
    "fs = 50 # sample rate in Hz\n",
    "A = 1 # Amplitude\n",
    "duration = 2\n",
    "tvec = np.arange(0.,duration,1/fs) # time vector\n",
    "sig1 = np.sin(2*np.pi*F*tvec) # sine wave"
   ]
  },
  {
   "cell_type": "markdown",
   "metadata": {},
   "source": [
    "... and plot that sinusoid, yeah!"
   ]
  },
  {
   "cell_type": "code",
   "execution_count": 8,
   "metadata": {},
   "outputs": [
    {
     "data": {
      "image/png": "[encoded data removed]",
      "text/plain": [
       "<matplotlib.figure.Figure at 0x118843518>"
      ]
     },
     "metadata": {},
     "output_type": "display_data"
    }
   ],
   "source": [
    "plt.plot(tvec,sig1,'.')\n",
    "plt.grid()\n",
    "plt.xlabel('Time (seconds)')\n",
    "plt.ylabel('Amplitude')\n",
    "plt.show()"
   ]
  },
  {
   "cell_type": "markdown",
   "metadata": {
    "collapsed": true
   },
   "source": [
    "In the plot above, each dot is a data point. The sine wave has a frequency of 2 Hz (or, 2 cycles per second). That sine wave is sampled 50 times every second, which is defined by the sample rate. "
   ]
  },
  {
   "cell_type": "code",
   "execution_count": null,
   "metadata": {
    "collapsed": true
   },
   "outputs": [],
   "source": []
  }
 ],
 "metadata": {
  "kernelspec": {
   "display_name": "Python 3",
   "language": "python",
   "name": "python3"
  },
  "language_info": {
   "codemirror_mode": {
    "name": "ipython",
    "version": 3
   },
   "file_extension": ".py",
   "mimetype": "text/x-python",
   "name": "python",
   "nbconvert_exporter": "python",
   "pygments_lexer": "ipython3",
   "version": "3.7.0"
  }
 },
 "nbformat": 4,
 "nbformat_minor": 2
}
